{
 "cells": [
  {
   "cell_type": "markdown",
   "metadata": {},
   "source": [
    "# Calculates b-values and time lags"
   ]
  },
  {
   "cell_type": "markdown",
   "metadata": {},
   "source": [
    "This notebook calculates b-values as well as time lags for the data. B-values are calculated per a Flinn-Engdahl region. B-value is calculated from the magnitudes of earthquakes, it is the relationship between earthquake magnitude and frequency of occurrence. B-values are typically close to 1.0 because for every whole number increase in magnitude, there is a earthquake occurances at that magitude decrease by log 10. This implies that if a region has a high b-value there has been a disproportional number of low magitude earthquakes and the region is due for a larger magitude event. "
   ]
  },
  {
   "cell_type": "code",
   "execution_count": 1,
   "metadata": {},
   "outputs": [],
   "source": [
    "source('initialize_data.R', echo = FALSE)"
   ]
  },
  {
   "cell_type": "code",
   "execution_count": 2,
   "metadata": {},
   "outputs": [
    {
     "name": "stderr",
     "output_type": "stream",
     "text": [
      "Updating HTML index of packages in '.Library'\n",
      "Making 'packages.html' ... done\n",
      "Updating HTML index of packages in '.Library'\n",
      "Making 'packages.html' ... done\n",
      "Updating HTML index of packages in '.Library'\n",
      "Making 'packages.html' ... done\n",
      "── Attaching packages ─────────────────────────────────────── tidyverse 1.2.1 ──\n",
      "✔ ggplot2 3.1.1       ✔ purrr   0.3.2  \n",
      "✔ tibble  2.1.1       ✔ dplyr   0.8.0.1\n",
      "✔ tidyr   0.8.3       ✔ stringr 1.4.0  \n",
      "✔ readr   1.3.1       ✔ forcats 0.4.0  \n",
      "── Conflicts ────────────────────────────────────────── tidyverse_conflicts() ──\n",
      "✖ dplyr::filter() masks stats::filter()\n",
      "✖ dplyr::lag()    masks stats::lag()\n",
      "\n",
      "Attaching package: ‘data.table’\n",
      "\n",
      "The following objects are masked from ‘package:dplyr’:\n",
      "\n",
      "    between, first, last\n",
      "\n",
      "The following object is masked from ‘package:purrr’:\n",
      "\n",
      "    transpose\n",
      "\n",
      "Loading required package: sp\n",
      "### Welcome to rworldmap ###\n",
      "For a short introduction type : \t vignette('rworldmap')\n",
      "Checking rgeos availability: TRUE\n",
      "\n",
      "Attaching package: ‘maps’\n",
      "\n",
      "The following object is masked from ‘package:purrr’:\n",
      "\n",
      "    map\n",
      "\n",
      "Google's Terms of Service: https://cloud.google.com/maps-platform/terms/.\n",
      "Please cite ggmap if you use it! See citation(\"ggmap\") for details.\n",
      "\n",
      "Attaching package: ‘plotly’\n",
      "\n",
      "The following object is masked from ‘package:ggmap’:\n",
      "\n",
      "    wind\n",
      "\n",
      "The following object is masked from ‘package:ggplot2’:\n",
      "\n",
      "    last_plot\n",
      "\n",
      "The following object is masked from ‘package:stats’:\n",
      "\n",
      "    filter\n",
      "\n",
      "The following object is masked from ‘package:graphics’:\n",
      "\n",
      "    layout\n",
      "\n",
      "rgdal: version: 1.4-3, (SVN revision 828)\n",
      " Geospatial Data Abstraction Library extensions to R successfully loaded\n",
      " Loaded GDAL runtime: GDAL 2.2.3, released 2017/11/20\n",
      " Path to GDAL shared files: /usr/share/gdal/2.2\n",
      " GDAL binary built with GEOS: TRUE \n",
      " Loaded PROJ.4 runtime: Rel. 4.9.3, 15 August 2016, [PJ_VERSION: 493]\n",
      " Path to PROJ.4 shared files: (autodetected)\n",
      " Linking to sp version: 1.3-1 \n",
      "rgeos version: 0.4-3, (SVN revision 595)\n",
      " GEOS runtime version: 3.6.2-CAPI-1.10.2 \n",
      " Linking to sp version: 1.3-1 \n",
      " Polygon checking: TRUE \n",
      "\n",
      "Loading required package: spData\n",
      "To access larger datasets in this package, install the spDataLarge\n",
      "package with: `install.packages('spDataLarge',\n",
      "repos='https://nowosad.github.io/drat/', type='source')`\n",
      "Loading required package: sf\n",
      "Linking to GEOS 3.6.2, GDAL 2.2.3, PROJ 4.9.3\n"
     ]
    },
    {
     "name": "stdout",
     "output_type": "stream",
     "text": [
      "[1] \"libraries loaded successfully\"\n"
     ]
    }
   ],
   "source": [
    "install.packages('spdep')\n",
    "\n",
    "load_libraries()"
   ]
  },
  {
   "cell_type": "code",
   "execution_count": 3,
   "metadata": {},
   "outputs": [
    {
     "name": "stderr",
     "output_type": "stream",
     "text": [
      "Files in \"~/jupyter/cs2019_Group11/GroupProducts/data\" loaded.\n",
      "Subset Completed.\n",
      "Parsed column: time.\n",
      "spatial df created\n"
     ]
    }
   ],
   "source": [
    "#Explicit location of main project data\n",
    "path <- \"~/jupyter/cs2019_Group11/GroupProducts/data\" \n",
    "\n",
    "#create df from main project data\n",
    "df <- loadFiles(path) %>%\n",
    "    reqCols %>%\n",
    "    parseDt('time')\n",
    "\n",
    "#create spatial point df\n",
    "dfsp <- tospdf(df)"
   ]
  },
  {
   "cell_type": "code",
   "execution_count": 4,
   "metadata": {},
   "outputs": [
    {
     "name": "stdout",
     "output_type": "stream",
     "text": [
      "OGR data source with driver: LIBKML \n",
      "Source: \"/dsa/home/jaw56m/jupyter/cs2019_Group11/GroupProducts/fe.kmz\", layer: \"fe\"\n",
      "with 754 features\n",
      "It has 12 fields\n"
     ]
    },
    {
     "name": "stderr",
     "output_type": "stream",
     "text": [
      "Warning message in readOGR(tectonicdata):\n",
      "“Z-dimension discarded”"
     ]
    },
    {
     "name": "stdout",
     "output_type": "stream",
     "text": [
      "[1] \"none\"\n",
      "[1] \"none\"\n",
      "[1] \"none\"\n",
      "[1] \"none\"\n",
      "[1] \"none\"\n",
      "[1] \"none\"\n",
      "[1] \"none\"\n",
      "[1] \"none\"\n",
      "[1] \"none\"\n",
      "[1] \"none\"\n",
      "[1] \"none\"\n",
      "[1] \"none\"\n",
      "[1] \"none\"\n",
      "[1] \"none\"\n",
      "[1] \"none\"\n",
      "[1] \"none\"\n",
      "[1] \"none\"\n",
      "[1] \"none\"\n",
      "[1] \"none\"\n",
      "[1] \"none\"\n",
      "[1] \"none\"\n",
      "[1] \"none\"\n",
      "[1] \"none\"\n",
      "[1] \"none\"\n",
      "[1] \"none\"\n",
      "[1] \"none\"\n",
      "[1] \"none\"\n",
      "[1] \"none\"\n",
      "[1] \"none\"\n",
      "[1] \"none\"\n",
      "[1] \"none\"\n",
      "[1] \"none\"\n",
      "[1] \"none\"\n",
      "[1] \"none\"\n",
      "[1] \"none\"\n",
      "[1] \"none\"\n",
      "[1] \"none\"\n",
      "[1] \"none\"\n",
      "[1] \"none\"\n",
      "[1] \"none\"\n",
      "[1] \"none\"\n",
      "[1] \"none\"\n",
      "[1] \"none\"\n",
      "[1] \"none\"\n",
      "[1] \"none\"\n",
      "[1] \"none\"\n",
      "[1] \"none\"\n"
     ]
    }
   ],
   "source": [
    "#takes about 10 minutes to run\n",
    "#adds Flinn-Engdahl regions to spatial point df and converts coordinate system\n",
    "tpts <-regions_data(dfsp)"
   ]
  },
  {
   "cell_type": "code",
   "execution_count": 5,
   "metadata": {},
   "outputs": [
    {
     "name": "stdout",
     "output_type": "stream",
     "text": [
      "OGR data source with driver: LIBKML \n",
      "Source: \"/dsa/home/jaw56m/jupyter/cs2019_Group11/GroupProducts/fe.kmz\", layer: \"fe\"\n",
      "with 754 features\n",
      "It has 12 fields\n"
     ]
    },
    {
     "name": "stderr",
     "output_type": "stream",
     "text": [
      "Warning message in readOGR(regiondata):\n",
      "“Z-dimension discarded”Regions defined for each Polygons\n",
      "Warning message:\n",
      "“Ignoring unknown parameters: fill”"
     ]
    }
   ],
   "source": [
    "base_world <- base_world_regions()\n",
    "#get base map"
   ]
  },
  {
   "cell_type": "code",
   "execution_count": 6,
   "metadata": {},
   "outputs": [
    {
     "data": {
      "text/html": [
       "<table>\n",
       "<thead><tr><th scope=col>depth</th><th scope=col>mag</th><th scope=col>time</th><th scope=col>id</th><th scope=col>updated</th><th scope=col>newname</th><th scope=col>latitude</th><th scope=col>longitude</th></tr></thead>\n",
       "<tbody>\n",
       "\t<tr><td>  2.000            </td><td>2.6                </td><td>1999-07-01 23:29:27</td><td>usp0009awp         </td><td>2014-11-07 01:08:01</td><td>374                </td><td> 45.4500           </td><td>   3.790           </td></tr>\n",
       "\t<tr><td>  4.613            </td><td>3.1                </td><td>1999-07-01 22:10:51</td><td>uw10474128         </td><td>2016-07-23 18:59:57</td><td>6                  </td><td> 46.7105           </td><td>-122.778           </td></tr>\n",
       "\t<tr><td>106.800            </td><td>4.2                </td><td>1999-07-01 21:42:41</td><td>usp0009awk         </td><td>2014-11-07 01:08:01</td><td>1                  </td><td> 51.9950           </td><td> 177.972           </td></tr>\n",
       "\t<tr><td> 26.100            </td><td>3.9                </td><td>1999-07-01 20:50:11</td><td>usp0009awh         </td><td>2014-11-07 01:08:01</td><td>53                 </td><td>-31.7260           </td><td> -72.053           </td></tr>\n",
       "\t<tr><td>136.300            </td><td>3.1                </td><td>1999-07-01 19:52:19</td><td>usp0009awf         </td><td>2014-11-07 01:08:01</td><td>24                 </td><td> 59.8900           </td><td>-153.560           </td></tr>\n",
       "\t<tr><td> 30.200            </td><td>3.8                </td><td>1999-07-01 19:52:12</td><td>usp0009awe         </td><td>2014-11-07 01:08:01</td><td>741                </td><td> 36.0500           </td><td>  31.166           </td></tr>\n",
       "</tbody>\n",
       "</table>\n"
      ],
      "text/latex": [
       "\\begin{tabular}{r|llllllll}\n",
       " depth & mag & time & id & updated & newname & latitude & longitude\\\\\n",
       "\\hline\n",
       "\t   2.000             & 2.6                 & 1999-07-01 23:29:27 & usp0009awp          & 2014-11-07 01:08:01 & 374                 &  45.4500            &    3.790           \\\\\n",
       "\t   4.613             & 3.1                 & 1999-07-01 22:10:51 & uw10474128          & 2016-07-23 18:59:57 & 6                   &  46.7105            & -122.778           \\\\\n",
       "\t 106.800             & 4.2                 & 1999-07-01 21:42:41 & usp0009awk          & 2014-11-07 01:08:01 & 1                   &  51.9950            &  177.972           \\\\\n",
       "\t  26.100             & 3.9                 & 1999-07-01 20:50:11 & usp0009awh          & 2014-11-07 01:08:01 & 53                  & -31.7260            &  -72.053           \\\\\n",
       "\t 136.300             & 3.1                 & 1999-07-01 19:52:19 & usp0009awf          & 2014-11-07 01:08:01 & 24                  &  59.8900            & -153.560           \\\\\n",
       "\t  30.200             & 3.8                 & 1999-07-01 19:52:12 & usp0009awe          & 2014-11-07 01:08:01 & 741                 &  36.0500            &   31.166           \\\\\n",
       "\\end{tabular}\n"
      ],
      "text/markdown": [
       "\n",
       "| depth | mag | time | id | updated | newname | latitude | longitude |\n",
       "|---|---|---|---|---|---|---|---|\n",
       "|   2.000             | 2.6                 | 1999-07-01 23:29:27 | usp0009awp          | 2014-11-07 01:08:01 | 374                 |  45.4500            |    3.790            |\n",
       "|   4.613             | 3.1                 | 1999-07-01 22:10:51 | uw10474128          | 2016-07-23 18:59:57 | 6                   |  46.7105            | -122.778            |\n",
       "| 106.800             | 4.2                 | 1999-07-01 21:42:41 | usp0009awk          | 2014-11-07 01:08:01 | 1                   |  51.9950            |  177.972            |\n",
       "|  26.100             | 3.9                 | 1999-07-01 20:50:11 | usp0009awh          | 2014-11-07 01:08:01 | 53                  | -31.7260            |  -72.053            |\n",
       "| 136.300             | 3.1                 | 1999-07-01 19:52:19 | usp0009awf          | 2014-11-07 01:08:01 | 24                  |  59.8900            | -153.560            |\n",
       "|  30.200             | 3.8                 | 1999-07-01 19:52:12 | usp0009awe          | 2014-11-07 01:08:01 | 741                 |  36.0500            |   31.166            |\n",
       "\n"
      ],
      "text/plain": [
       "  depth   mag time                id         updated             newname\n",
       "1   2.000 2.6 1999-07-01 23:29:27 usp0009awp 2014-11-07 01:08:01 374    \n",
       "2   4.613 3.1 1999-07-01 22:10:51 uw10474128 2016-07-23 18:59:57 6      \n",
       "3 106.800 4.2 1999-07-01 21:42:41 usp0009awk 2014-11-07 01:08:01 1      \n",
       "4  26.100 3.9 1999-07-01 20:50:11 usp0009awh 2014-11-07 01:08:01 53     \n",
       "5 136.300 3.1 1999-07-01 19:52:19 usp0009awf 2014-11-07 01:08:01 24     \n",
       "6  30.200 3.8 1999-07-01 19:52:12 usp0009awe 2014-11-07 01:08:01 741    \n",
       "  latitude longitude\n",
       "1  45.4500    3.790 \n",
       "2  46.7105 -122.778 \n",
       "3  51.9950  177.972 \n",
       "4 -31.7260  -72.053 \n",
       "5  59.8900 -153.560 \n",
       "6  36.0500   31.166 "
      ]
     },
     "metadata": {},
     "output_type": "display_data"
    }
   ],
   "source": [
    "tpts_df <- as.data.frame(tpts)\n",
    "tpts_df$latitude = df$latitude\n",
    "tpts_df$longitude = df$longitude\n",
    "tpts_df$coords.x1 = NULL\n",
    "tpts_df$coords.x2 = NULL\n",
    "head(tpts_df)"
   ]
  },
  {
   "cell_type": "markdown",
   "metadata": {},
   "source": [
    "A ID column must be added to the Flinn-Engdahl regions in order for the loop that will be ran later to know how many iterations to run."
   ]
  },
  {
   "cell_type": "code",
   "execution_count": 7,
   "metadata": {},
   "outputs": [
    {
     "name": "stdout",
     "output_type": "stream",
     "text": [
      "OGR data source with driver: LIBKML \n",
      "Source: \"/dsa/home/jaw56m/jupyter/cs2019_Group11/GroupProducts/fe.kmz\", layer: \"fe\"\n",
      "with 754 features\n",
      "It has 12 fields\n"
     ]
    },
    {
     "name": "stderr",
     "output_type": "stream",
     "text": [
      "Warning message in readOGR(tectonicdata):\n",
      "“Z-dimension discarded”"
     ]
    }
   ],
   "source": [
    "tectonicdata = \"~/jupyter/cs2019_Group11/GroupProducts/fe.kmz\"\n",
    "    tectonicFeatures <- readOGR(tectonicdata)\n",
    "\n",
    "    #also transform data into same regions as the earthquake data for later comparisons\n",
    "    transTectonicFeatures <- spTransform(tectonicFeatures,  CRS(\"+init=epsg:4087\"))\n",
    "\n",
    "\n",
    "tectonicFeatures@data$ID <- seq.int(nrow(transTectonicFeatures))#this adds in an id which is the same \n",
    "#as the newname in the tpts to match regions with earthquakes\n",
    "\n"
   ]
  },
  {
   "cell_type": "markdown",
   "metadata": {},
   "source": [
    "Empty values are created to store the output of the loop later."
   ]
  },
  {
   "cell_type": "code",
   "execution_count": 8,
   "metadata": {},
   "outputs": [],
   "source": [
    "bvalue = \" \"\n",
    "error = \" \"\n",
    "count = \" \"\n",
    "time_diff = \" \"\n",
    "year = \" \"\n",
    "listofdfs <- list()"
   ]
  },
  {
   "cell_type": "markdown",
   "metadata": {},
   "source": [
    "Now the b-values are ready to be calculated."
   ]
  },
  {
   "cell_type": "code",
   "execution_count": 9,
   "metadata": {},
   "outputs": [
    {
     "name": "stdout",
     "output_type": "stream",
     "text": [
      "[1] \"substed\"\n",
      "[1] \"substed\"\n",
      "[1] \"substed\"\n",
      "[1] \"substed\"\n",
      "[1] \"substed\"\n",
      "[1] \"substed\"\n",
      "[1] \"substed\"\n",
      "[1] \"substed\"\n",
      "[1] \"substed\"\n",
      "[1] \"substed\"\n",
      "[1] \"substed\"\n",
      "[1] \"substed\"\n",
      "[1] \"substed\"\n",
      "[1] \"substed\"\n",
      "[1] \"substed\"\n",
      "[1] \"substed\"\n",
      "[1] \"substed\"\n",
      "[1] \"substed\"\n",
      "[1] \"substed\"\n",
      "[1] \"substed\"\n"
     ]
    }
   ],
   "source": [
    "#jessica\n",
    "\n",
    "options(warn=-1) # there are warnings because some regions don't have earthquakes \n",
    "\n",
    "fe = as.data.frame(tectonicFeatures) #convert to use in the loop \n",
    "\n",
    "for (n in 1999:2018){\n",
    "    time = subset(tpts_df, format(as.Date(tpts_df$time),\"%Y\")==n)\n",
    "    print('substed')\n",
    "    \n",
    "for (i in 1:nrow(fe)) {  # i need this to run for every region \n",
    "\n",
    "    region <- subset(tpts_df, newname == i) # i pull out all earthquake per a region \n",
    "\n",
    "    if (length(region) >= 1){ # keeps from getting errors because some errors have no earthquakes \n",
    "        values <- b.guten(region$mag) # i calc the bvalues using the function \n",
    "        values_df = as.data.frame(values)# must be converted to a df to pull out the numbers \n",
    "        bvalue [i] <- values_df[1,] # pull out the bvalues \n",
    "        error [i] <- values_df[2,] # pull out the errors \n",
    "        count[i] = i+1 # save the count, it represents the region \n",
    "        year[i] = n\n",
    "} \n",
    "    year[n] = n\n",
    "    data  = as.data.frame(cbind(bvalue, error, count, year))\n",
    "}\n",
    "    #data[n]  = as.data.frame(c(bvalue, error, count))\n",
    "     #year[n] = n\n",
    " listofdfs[[n]] <- assign(paste(\"bvalue_year\",n[1999:2018],sep=\"_\"),data) \n",
    " \n",
    "}\n",
    "\n"
   ]
  },
  {
   "cell_type": "code",
   "execution_count": 10,
   "metadata": {},
   "outputs": [
    {
     "data": {
      "text/html": [
       "<table>\n",
       "<thead><tr><th scope=col>bvalue</th><th scope=col>error</th><th scope=col>count</th><th scope=col>year</th></tr></thead>\n",
       "<tbody>\n",
       "\t<tr><td>0.508351114613314  </td><td>0.0101603726882616 </td><td>2                  </td><td>1999               </td></tr>\n",
       "\t<tr><td>0.584190090008462  </td><td>0.00770723358770015</td><td>3                  </td><td>1999               </td></tr>\n",
       "\t<tr><td>0.525083031942309  </td><td>0.0639985271831257 </td><td>4                  </td><td>1999               </td></tr>\n",
       "\t<tr><td>1.00474746934992   </td><td>0.118692367680826  </td><td>5                  </td><td>1999               </td></tr>\n",
       "\t<tr><td>0.632058592679377  </td><td>0.0639401903928455 </td><td>6                  </td><td>1999               </td></tr>\n",
       "\t<tr><td>1.05761413285105   </td><td>0.0317995238777704 </td><td>7                  </td><td>1999               </td></tr>\n",
       "</tbody>\n",
       "</table>\n"
      ],
      "text/latex": [
       "\\begin{tabular}{r|llll}\n",
       " bvalue & error & count & year\\\\\n",
       "\\hline\n",
       "\t 0.508351114613314   & 0.0101603726882616  & 2                   & 1999               \\\\\n",
       "\t 0.584190090008462   & 0.00770723358770015 & 3                   & 1999               \\\\\n",
       "\t 0.525083031942309   & 0.0639985271831257  & 4                   & 1999               \\\\\n",
       "\t 1.00474746934992    & 0.118692367680826   & 5                   & 1999               \\\\\n",
       "\t 0.632058592679377   & 0.0639401903928455  & 6                   & 1999               \\\\\n",
       "\t 1.05761413285105    & 0.0317995238777704  & 7                   & 1999               \\\\\n",
       "\\end{tabular}\n"
      ],
      "text/markdown": [
       "\n",
       "| bvalue | error | count | year |\n",
       "|---|---|---|---|\n",
       "| 0.508351114613314   | 0.0101603726882616  | 2                   | 1999                |\n",
       "| 0.584190090008462   | 0.00770723358770015 | 3                   | 1999                |\n",
       "| 0.525083031942309   | 0.0639985271831257  | 4                   | 1999                |\n",
       "| 1.00474746934992    | 0.118692367680826   | 5                   | 1999                |\n",
       "| 0.632058592679377   | 0.0639401903928455  | 6                   | 1999                |\n",
       "| 1.05761413285105    | 0.0317995238777704  | 7                   | 1999                |\n",
       "\n"
      ],
      "text/plain": [
       "  bvalue            error               count year\n",
       "1 0.508351114613314 0.0101603726882616  2     1999\n",
       "2 0.584190090008462 0.00770723358770015 3     1999\n",
       "3 0.525083031942309 0.0639985271831257  4     1999\n",
       "4 1.00474746934992  0.118692367680826   5     1999\n",
       "5 0.632058592679377 0.0639401903928455  6     1999\n",
       "6 1.05761413285105  0.0317995238777704  7     1999"
      ]
     },
     "metadata": {},
     "output_type": "display_data"
    }
   ],
   "source": [
    "#values = 1999:2018\n",
    "#wanted = listofdfs[values]\n",
    "\n",
    "df_bvalues = bind_rows(listofdfs)\n",
    "\n",
    "head(df_bvalues)"
   ]
  },
  {
   "cell_type": "markdown",
   "metadata": {},
   "source": [
    "Now that b-values are calculated, data must be converted to be numeric and put into a dataframe."
   ]
  },
  {
   "cell_type": "code",
   "execution_count": 11,
   "metadata": {},
   "outputs": [
    {
     "data": {
      "text/html": [
       "<table>\n",
       "<thead><tr><th scope=col>bvalue</th><th scope=col>error</th><th scope=col>year</th><th scope=col>newname</th></tr></thead>\n",
       "<tbody>\n",
       "\t<tr><td>0.5083511  </td><td>0.010160373</td><td>1999       </td><td>2          </td></tr>\n",
       "\t<tr><td>0.5841901  </td><td>0.007707234</td><td>1999       </td><td>3          </td></tr>\n",
       "\t<tr><td>0.5250830  </td><td>0.063998527</td><td>1999       </td><td>4          </td></tr>\n",
       "\t<tr><td>1.0047475  </td><td>0.118692368</td><td>1999       </td><td>5          </td></tr>\n",
       "\t<tr><td>0.6320586  </td><td>0.063940190</td><td>1999       </td><td>6          </td></tr>\n",
       "\t<tr><td>1.0576141  </td><td>0.031799524</td><td>1999       </td><td>7          </td></tr>\n",
       "</tbody>\n",
       "</table>\n"
      ],
      "text/latex": [
       "\\begin{tabular}{r|llll}\n",
       " bvalue & error & year & newname\\\\\n",
       "\\hline\n",
       "\t 0.5083511   & 0.010160373 & 1999        & 2          \\\\\n",
       "\t 0.5841901   & 0.007707234 & 1999        & 3          \\\\\n",
       "\t 0.5250830   & 0.063998527 & 1999        & 4          \\\\\n",
       "\t 1.0047475   & 0.118692368 & 1999        & 5          \\\\\n",
       "\t 0.6320586   & 0.063940190 & 1999        & 6          \\\\\n",
       "\t 1.0576141   & 0.031799524 & 1999        & 7          \\\\\n",
       "\\end{tabular}\n"
      ],
      "text/markdown": [
       "\n",
       "| bvalue | error | year | newname |\n",
       "|---|---|---|---|\n",
       "| 0.5083511   | 0.010160373 | 1999        | 2           |\n",
       "| 0.5841901   | 0.007707234 | 1999        | 3           |\n",
       "| 0.5250830   | 0.063998527 | 1999        | 4           |\n",
       "| 1.0047475   | 0.118692368 | 1999        | 5           |\n",
       "| 0.6320586   | 0.063940190 | 1999        | 6           |\n",
       "| 1.0576141   | 0.031799524 | 1999        | 7           |\n",
       "\n"
      ],
      "text/plain": [
       "  bvalue    error       year newname\n",
       "1 0.5083511 0.010160373 1999 2      \n",
       "2 0.5841901 0.007707234 1999 3      \n",
       "3 0.5250830 0.063998527 1999 4      \n",
       "4 1.0047475 0.118692368 1999 5      \n",
       "5 0.6320586 0.063940190 1999 6      \n",
       "6 1.0576141 0.031799524 1999 7      "
      ]
     },
     "metadata": {},
     "output_type": "display_data"
    }
   ],
   "source": [
    "df_bvalues$bvalue[is.nan(df_bvalues$bvalue)] <- 0\n",
    "\n",
    "df_bvalues$bvalue = as.numeric(df_bvalues$bvalue)\n",
    "\n",
    "df_bvalues$error[is.nan(df_bvalues$error)] <- 0\n",
    "\n",
    "df_bvalues$error = as.numeric(df_bvalues$error)\n",
    "#test2[is.nan(test2)] <- 0\n",
    "\n",
    "df_bvalues$year = as.numeric(df_bvalues$year)\n",
    "\n",
    "newname = as.data.frame(df_bvalues$count) # converting the counts to put into a df \n",
    "df_bvalues$newname <- (as.integer(df_bvalues$count))\n",
    "\n",
    "#b_value = cbind(test1, test2, newname) # i put all together into a df that way i know the region later  \n",
    "#b_value$variable = NULL\n",
    "df_bvalues$count = NULL\n",
    "\n",
    "head(df_bvalues)"
   ]
  },
  {
   "cell_type": "markdown",
   "metadata": {},
   "source": [
    "The b-values are now ready to be added onto the earthquake dataframe"
   ]
  },
  {
   "cell_type": "code",
   "execution_count": 12,
   "metadata": {},
   "outputs": [
    {
     "data": {
      "text/html": [
       "<table>\n",
       "<thead><tr><th scope=col>newname</th><th scope=col>depth</th><th scope=col>mag</th><th scope=col>time</th><th scope=col>id</th><th scope=col>updated</th><th scope=col>latitude</th><th scope=col>longitude</th><th scope=col>bvalue</th><th scope=col>error</th></tr></thead>\n",
       "<tbody>\n",
       "\t<tr><td>10                 </td><td> 33.0              </td><td>5.1                </td><td>1999-02-14 17:17:27</td><td>usp00092tz         </td><td>2014-11-07 01:07:01</td><td> 21.581            </td><td>-106.681           </td><td>0.6204207          </td><td>0.66570086         </td></tr>\n",
       "\t<tr><td>10                 </td><td> 33.0              </td><td>4.5                </td><td>1999-03-16 06:14:07</td><td>usp00094kr         </td><td>2014-11-07 01:07:14</td><td> 22.002            </td><td>-107.375           </td><td>0.6204207          </td><td>0.66570086         </td></tr>\n",
       "\t<tr><td>10                 </td><td> 10.0              </td><td>4.5                </td><td>1999-01-13 07:38:50</td><td>usp0009114         </td><td>2014-11-07 01:06:48</td><td> 22.690            </td><td>-107.988           </td><td>0.6204207          </td><td>0.66570086         </td></tr>\n",
       "\t<tr><td>10                 </td><td> 10.0              </td><td>5.3                </td><td>1999-03-12 07:07:40</td><td>usp00094by         </td><td>2016-11-09 22:04:11</td><td> 22.219            </td><td>-107.368           </td><td>0.6204207          </td><td>0.66570086         </td></tr>\n",
       "\t<tr><td>10                 </td><td> 33.0              </td><td>5.2                </td><td>1999-01-10 20:36:06</td><td>usp00090x3         </td><td>2016-11-09 21:38:36</td><td> 22.939            </td><td>-108.020           </td><td>0.6204207          </td><td>0.66570086         </td></tr>\n",
       "\t<tr><td>100                </td><td>129.1              </td><td>4.3                </td><td>1999-04-15 14:05:21</td><td>usp00096bk         </td><td>2014-11-07 01:07:28</td><td>-19.295            </td><td> -69.268           </td><td>0.3347563          </td><td>0.04778564         </td></tr>\n",
       "</tbody>\n",
       "</table>\n"
      ],
      "text/latex": [
       "\\begin{tabular}{r|llllllllll}\n",
       " newname & depth & mag & time & id & updated & latitude & longitude & bvalue & error\\\\\n",
       "\\hline\n",
       "\t 10                  &  33.0               & 5.1                 & 1999-02-14 17:17:27 & usp00092tz          & 2014-11-07 01:07:01 &  21.581             & -106.681            & 0.6204207           & 0.66570086         \\\\\n",
       "\t 10                  &  33.0               & 4.5                 & 1999-03-16 06:14:07 & usp00094kr          & 2014-11-07 01:07:14 &  22.002             & -107.375            & 0.6204207           & 0.66570086         \\\\\n",
       "\t 10                  &  10.0               & 4.5                 & 1999-01-13 07:38:50 & usp0009114          & 2014-11-07 01:06:48 &  22.690             & -107.988            & 0.6204207           & 0.66570086         \\\\\n",
       "\t 10                  &  10.0               & 5.3                 & 1999-03-12 07:07:40 & usp00094by          & 2016-11-09 22:04:11 &  22.219             & -107.368            & 0.6204207           & 0.66570086         \\\\\n",
       "\t 10                  &  33.0               & 5.2                 & 1999-01-10 20:36:06 & usp00090x3          & 2016-11-09 21:38:36 &  22.939             & -108.020            & 0.6204207           & 0.66570086         \\\\\n",
       "\t 100                 & 129.1               & 4.3                 & 1999-04-15 14:05:21 & usp00096bk          & 2014-11-07 01:07:28 & -19.295             &  -69.268            & 0.3347563           & 0.04778564         \\\\\n",
       "\\end{tabular}\n"
      ],
      "text/markdown": [
       "\n",
       "| newname | depth | mag | time | id | updated | latitude | longitude | bvalue | error |\n",
       "|---|---|---|---|---|---|---|---|---|---|\n",
       "| 10                  |  33.0               | 5.1                 | 1999-02-14 17:17:27 | usp00092tz          | 2014-11-07 01:07:01 |  21.581             | -106.681            | 0.6204207           | 0.66570086          |\n",
       "| 10                  |  33.0               | 4.5                 | 1999-03-16 06:14:07 | usp00094kr          | 2014-11-07 01:07:14 |  22.002             | -107.375            | 0.6204207           | 0.66570086          |\n",
       "| 10                  |  10.0               | 4.5                 | 1999-01-13 07:38:50 | usp0009114          | 2014-11-07 01:06:48 |  22.690             | -107.988            | 0.6204207           | 0.66570086          |\n",
       "| 10                  |  10.0               | 5.3                 | 1999-03-12 07:07:40 | usp00094by          | 2016-11-09 22:04:11 |  22.219             | -107.368            | 0.6204207           | 0.66570086          |\n",
       "| 10                  |  33.0               | 5.2                 | 1999-01-10 20:36:06 | usp00090x3          | 2016-11-09 21:38:36 |  22.939             | -108.020            | 0.6204207           | 0.66570086          |\n",
       "| 100                 | 129.1               | 4.3                 | 1999-04-15 14:05:21 | usp00096bk          | 2014-11-07 01:07:28 | -19.295             |  -69.268            | 0.3347563           | 0.04778564          |\n",
       "\n"
      ],
      "text/plain": [
       "  newname depth mag time                id         updated             latitude\n",
       "1 10       33.0 5.1 1999-02-14 17:17:27 usp00092tz 2014-11-07 01:07:01  21.581 \n",
       "2 10       33.0 4.5 1999-03-16 06:14:07 usp00094kr 2014-11-07 01:07:14  22.002 \n",
       "3 10       10.0 4.5 1999-01-13 07:38:50 usp0009114 2014-11-07 01:06:48  22.690 \n",
       "4 10       10.0 5.3 1999-03-12 07:07:40 usp00094by 2016-11-09 22:04:11  22.219 \n",
       "5 10       33.0 5.2 1999-01-10 20:36:06 usp00090x3 2016-11-09 21:38:36  22.939 \n",
       "6 100     129.1 4.3 1999-04-15 14:05:21 usp00096bk 2014-11-07 01:07:28 -19.295 \n",
       "  longitude bvalue    error     \n",
       "1 -106.681  0.6204207 0.66570086\n",
       "2 -107.375  0.6204207 0.66570086\n",
       "3 -107.988  0.6204207 0.66570086\n",
       "4 -107.368  0.6204207 0.66570086\n",
       "5 -108.020  0.6204207 0.66570086\n",
       "6  -69.268  0.3347563 0.04778564"
      ]
     },
     "metadata": {},
     "output_type": "display_data"
    }
   ],
   "source": [
    " list_values = list()\n",
    "tpts_df$year = format(as.Date(tpts_df$time),\"%Y\")\n",
    "\n",
    "for (i in 1999:2018){\n",
    "    year_tpts = subset (tpts_df, year == i)\n",
    "    year_bvalues = subset (df_bvalues, year == i)\n",
    "\n",
    "    df_part <- merge(year_tpts, year_bvalues, by.x='newname', by.y='newname')\n",
    "     list_values[[i]] <- assign(paste(\"merged\",i[1999:2018],sep=\"_\"),df_part) \n",
    "\n",
    "}\n",
    "\n",
    "merged_all = bind_rows(list_values)\n",
    "merged_all$year.x = NULL\n",
    "merged_all$year.y = NULL\n",
    "\n",
    "head(merged_all)"
   ]
  },
  {
   "cell_type": "markdown",
   "metadata": {},
   "source": [
    "Now the time lag between earthquakes is calculated. Lags are determined for earthquakes within the same Flinn-Engdahl regions.  "
   ]
  },
  {
   "cell_type": "code",
   "execution_count": 13,
   "metadata": {},
   "outputs": [
    {
     "data": {
      "text/html": [
       "<table>\n",
       "<thead><tr><th scope=col>newname</th><th scope=col>depth</th><th scope=col>mag</th><th scope=col>time</th><th scope=col>id</th><th scope=col>updated</th><th scope=col>latitude</th><th scope=col>longitude</th><th scope=col>bvalue</th><th scope=col>error</th><th scope=col>time_lag</th></tr></thead>\n",
       "<tbody>\n",
       "\t<tr><td>10                 </td><td> 33.0              </td><td>5.1                </td><td>1999-02-14 17:17:27</td><td>usp00092tz         </td><td>2014-11-07 01:07:01</td><td> 21.581            </td><td>-106.681           </td><td>0.6204207          </td><td>0.66570086         </td><td>NA                 </td></tr>\n",
       "\t<tr><td>10                 </td><td> 33.0              </td><td>4.5                </td><td>1999-03-16 06:14:07</td><td>usp00094kr         </td><td>2014-11-07 01:07:14</td><td> 22.002            </td><td>-107.375           </td><td>0.6204207          </td><td>0.66570086         </td><td>1999-02-14 17:17:27</td></tr>\n",
       "\t<tr><td>10                 </td><td> 10.0              </td><td>4.5                </td><td>1999-01-13 07:38:50</td><td>usp0009114         </td><td>2014-11-07 01:06:48</td><td> 22.690            </td><td>-107.988           </td><td>0.6204207          </td><td>0.66570086         </td><td>1999-03-16 06:14:07</td></tr>\n",
       "\t<tr><td>10                 </td><td> 10.0              </td><td>5.3                </td><td>1999-03-12 07:07:40</td><td>usp00094by         </td><td>2016-11-09 22:04:11</td><td> 22.219            </td><td>-107.368           </td><td>0.6204207          </td><td>0.66570086         </td><td>1999-01-13 07:38:50</td></tr>\n",
       "\t<tr><td>10                 </td><td> 33.0              </td><td>5.2                </td><td>1999-01-10 20:36:06</td><td>usp00090x3         </td><td>2016-11-09 21:38:36</td><td> 22.939            </td><td>-108.020           </td><td>0.6204207          </td><td>0.66570086         </td><td>1999-03-12 07:07:40</td></tr>\n",
       "\t<tr><td>100                </td><td>129.1              </td><td>4.3                </td><td>1999-04-15 14:05:21</td><td>usp00096bk         </td><td>2014-11-07 01:07:28</td><td>-19.295            </td><td> -69.268           </td><td>0.3347563          </td><td>0.04778564         </td><td>NA                 </td></tr>\n",
       "</tbody>\n",
       "</table>\n"
      ],
      "text/latex": [
       "\\begin{tabular}{r|lllllllllll}\n",
       " newname & depth & mag & time & id & updated & latitude & longitude & bvalue & error & time\\_lag\\\\\n",
       "\\hline\n",
       "\t 10                  &  33.0               & 5.1                 & 1999-02-14 17:17:27 & usp00092tz          & 2014-11-07 01:07:01 &  21.581             & -106.681            & 0.6204207           & 0.66570086          & NA                 \\\\\n",
       "\t 10                  &  33.0               & 4.5                 & 1999-03-16 06:14:07 & usp00094kr          & 2014-11-07 01:07:14 &  22.002             & -107.375            & 0.6204207           & 0.66570086          & 1999-02-14 17:17:27\\\\\n",
       "\t 10                  &  10.0               & 4.5                 & 1999-01-13 07:38:50 & usp0009114          & 2014-11-07 01:06:48 &  22.690             & -107.988            & 0.6204207           & 0.66570086          & 1999-03-16 06:14:07\\\\\n",
       "\t 10                  &  10.0               & 5.3                 & 1999-03-12 07:07:40 & usp00094by          & 2016-11-09 22:04:11 &  22.219             & -107.368            & 0.6204207           & 0.66570086          & 1999-01-13 07:38:50\\\\\n",
       "\t 10                  &  33.0               & 5.2                 & 1999-01-10 20:36:06 & usp00090x3          & 2016-11-09 21:38:36 &  22.939             & -108.020            & 0.6204207           & 0.66570086          & 1999-03-12 07:07:40\\\\\n",
       "\t 100                 & 129.1               & 4.3                 & 1999-04-15 14:05:21 & usp00096bk          & 2014-11-07 01:07:28 & -19.295             &  -69.268            & 0.3347563           & 0.04778564          & NA                 \\\\\n",
       "\\end{tabular}\n"
      ],
      "text/markdown": [
       "\n",
       "| newname | depth | mag | time | id | updated | latitude | longitude | bvalue | error | time_lag |\n",
       "|---|---|---|---|---|---|---|---|---|---|---|\n",
       "| 10                  |  33.0               | 5.1                 | 1999-02-14 17:17:27 | usp00092tz          | 2014-11-07 01:07:01 |  21.581             | -106.681            | 0.6204207           | 0.66570086          | NA                  |\n",
       "| 10                  |  33.0               | 4.5                 | 1999-03-16 06:14:07 | usp00094kr          | 2014-11-07 01:07:14 |  22.002             | -107.375            | 0.6204207           | 0.66570086          | 1999-02-14 17:17:27 |\n",
       "| 10                  |  10.0               | 4.5                 | 1999-01-13 07:38:50 | usp0009114          | 2014-11-07 01:06:48 |  22.690             | -107.988            | 0.6204207           | 0.66570086          | 1999-03-16 06:14:07 |\n",
       "| 10                  |  10.0               | 5.3                 | 1999-03-12 07:07:40 | usp00094by          | 2016-11-09 22:04:11 |  22.219             | -107.368            | 0.6204207           | 0.66570086          | 1999-01-13 07:38:50 |\n",
       "| 10                  |  33.0               | 5.2                 | 1999-01-10 20:36:06 | usp00090x3          | 2016-11-09 21:38:36 |  22.939             | -108.020            | 0.6204207           | 0.66570086          | 1999-03-12 07:07:40 |\n",
       "| 100                 | 129.1               | 4.3                 | 1999-04-15 14:05:21 | usp00096bk          | 2014-11-07 01:07:28 | -19.295             |  -69.268            | 0.3347563           | 0.04778564          | NA                  |\n",
       "\n"
      ],
      "text/plain": [
       "  newname depth mag time                id         updated             latitude\n",
       "1 10       33.0 5.1 1999-02-14 17:17:27 usp00092tz 2014-11-07 01:07:01  21.581 \n",
       "2 10       33.0 4.5 1999-03-16 06:14:07 usp00094kr 2014-11-07 01:07:14  22.002 \n",
       "3 10       10.0 4.5 1999-01-13 07:38:50 usp0009114 2014-11-07 01:06:48  22.690 \n",
       "4 10       10.0 5.3 1999-03-12 07:07:40 usp00094by 2016-11-09 22:04:11  22.219 \n",
       "5 10       33.0 5.2 1999-01-10 20:36:06 usp00090x3 2016-11-09 21:38:36  22.939 \n",
       "6 100     129.1 4.3 1999-04-15 14:05:21 usp00096bk 2014-11-07 01:07:28 -19.295 \n",
       "  longitude bvalue    error      time_lag           \n",
       "1 -106.681  0.6204207 0.66570086 <NA>               \n",
       "2 -107.375  0.6204207 0.66570086 1999-02-14 17:17:27\n",
       "3 -107.988  0.6204207 0.66570086 1999-03-16 06:14:07\n",
       "4 -107.368  0.6204207 0.66570086 1999-01-13 07:38:50\n",
       "5 -108.020  0.6204207 0.66570086 1999-03-12 07:07:40\n",
       "6  -69.268  0.3347563 0.04778564 <NA>               "
      ]
     },
     "metadata": {},
     "output_type": "display_data"
    }
   ],
   "source": [
    "library(dplyr)\n",
    "data <- \n",
    "    merged_all %>%\n",
    "    group_by(newname) %>%\n",
    "    mutate(time_lag = dplyr::lag(time, n = 1, default = NA))\n",
    "\n",
    "head(data)\n"
   ]
  },
  {
   "cell_type": "code",
   "execution_count": 14,
   "metadata": {},
   "outputs": [
    {
     "data": {
      "text/html": [
       "<table>\n",
       "<thead><tr><th scope=col>Flinn-Engdahl region</th><th scope=col>Mean Magnitude per region</th><th scope=col>std_mag</th><th scope=col>B-value per region</th><th scope=col>B-value error per region</th><th scope=col>Maximum Magitude earthquake</th></tr></thead>\n",
       "<tbody>\n",
       "\t<tr><td>197        </td><td>4.545749   </td><td>0.4685629  </td><td>0.3161679  </td><td>0.015341091</td><td>9.1        </td></tr>\n",
       "\t<tr><td>570        </td><td>4.535332   </td><td>0.4325227  </td><td>0.5825635  </td><td>0.054201369</td><td>9.1        </td></tr>\n",
       "\t<tr><td>54         </td><td>3.777263   </td><td>0.7496326  </td><td>0.2824985  </td><td>0.007453174</td><td>8.8        </td></tr>\n",
       "\t<tr><td>593        </td><td>4.545121   </td><td>0.4292538  </td><td>0.3373858  </td><td>0.074676802</td><td>8.6        </td></tr>\n",
       "\t<tr><td>191        </td><td>4.638098   </td><td>0.4695939  </td><td>0.4387210  </td><td>0.031523097</td><td>8.4        </td></tr>\n",
       "\t<tr><td>65         </td><td>4.533912   </td><td>0.5145688  </td><td>0.4687103  </td><td>0.059476348</td><td>8.4        </td></tr>\n",
       "\t<tr><td>171        </td><td>4.525546   </td><td>0.4437419  </td><td>0.2822652  </td><td>0.014144272</td><td>8.3        </td></tr>\n",
       "\t<tr><td>553        </td><td>4.372358   </td><td>0.6804321  </td><td>0.8474039  </td><td>0.454624977</td><td>8.3        </td></tr>\n",
       "\t<tr><td>669        </td><td>4.429820   </td><td>0.5047722  </td><td>0.3047233  </td><td>0.004853625</td><td>8.3        </td></tr>\n",
       "\t<tr><td>60         </td><td>4.288951   </td><td>0.3990974  </td><td>0.3546653  </td><td>0.021544392</td><td>8.2        </td></tr>\n",
       "</tbody>\n",
       "</table>\n"
      ],
      "text/latex": [
       "\\begin{tabular}{r|llllll}\n",
       " Flinn-Engdahl region & Mean Magnitude per region & std\\_mag & B-value per region & B-value error per region & Maximum Magitude earthquake\\\\\n",
       "\\hline\n",
       "\t 197         & 4.545749    & 0.4685629   & 0.3161679   & 0.015341091 & 9.1        \\\\\n",
       "\t 570         & 4.535332    & 0.4325227   & 0.5825635   & 0.054201369 & 9.1        \\\\\n",
       "\t 54          & 3.777263    & 0.7496326   & 0.2824985   & 0.007453174 & 8.8        \\\\\n",
       "\t 593         & 4.545121    & 0.4292538   & 0.3373858   & 0.074676802 & 8.6        \\\\\n",
       "\t 191         & 4.638098    & 0.4695939   & 0.4387210   & 0.031523097 & 8.4        \\\\\n",
       "\t 65          & 4.533912    & 0.5145688   & 0.4687103   & 0.059476348 & 8.4        \\\\\n",
       "\t 171         & 4.525546    & 0.4437419   & 0.2822652   & 0.014144272 & 8.3        \\\\\n",
       "\t 553         & 4.372358    & 0.6804321   & 0.8474039   & 0.454624977 & 8.3        \\\\\n",
       "\t 669         & 4.429820    & 0.5047722   & 0.3047233   & 0.004853625 & 8.3        \\\\\n",
       "\t 60          & 4.288951    & 0.3990974   & 0.3546653   & 0.021544392 & 8.2        \\\\\n",
       "\\end{tabular}\n"
      ],
      "text/markdown": [
       "\n",
       "| Flinn-Engdahl region | Mean Magnitude per region | std_mag | B-value per region | B-value error per region | Maximum Magitude earthquake |\n",
       "|---|---|---|---|---|---|\n",
       "| 197         | 4.545749    | 0.4685629   | 0.3161679   | 0.015341091 | 9.1         |\n",
       "| 570         | 4.535332    | 0.4325227   | 0.5825635   | 0.054201369 | 9.1         |\n",
       "| 54          | 3.777263    | 0.7496326   | 0.2824985   | 0.007453174 | 8.8         |\n",
       "| 593         | 4.545121    | 0.4292538   | 0.3373858   | 0.074676802 | 8.6         |\n",
       "| 191         | 4.638098    | 0.4695939   | 0.4387210   | 0.031523097 | 8.4         |\n",
       "| 65          | 4.533912    | 0.5145688   | 0.4687103   | 0.059476348 | 8.4         |\n",
       "| 171         | 4.525546    | 0.4437419   | 0.2822652   | 0.014144272 | 8.3         |\n",
       "| 553         | 4.372358    | 0.6804321   | 0.8474039   | 0.454624977 | 8.3         |\n",
       "| 669         | 4.429820    | 0.5047722   | 0.3047233   | 0.004853625 | 8.3         |\n",
       "| 60          | 4.288951    | 0.3990974   | 0.3546653   | 0.021544392 | 8.2         |\n",
       "\n"
      ],
      "text/plain": [
       "   Flinn-Engdahl region Mean Magnitude per region std_mag   B-value per region\n",
       "1  197                  4.545749                  0.4685629 0.3161679         \n",
       "2  570                  4.535332                  0.4325227 0.5825635         \n",
       "3  54                   3.777263                  0.7496326 0.2824985         \n",
       "4  593                  4.545121                  0.4292538 0.3373858         \n",
       "5  191                  4.638098                  0.4695939 0.4387210         \n",
       "6  65                   4.533912                  0.5145688 0.4687103         \n",
       "7  171                  4.525546                  0.4437419 0.2822652         \n",
       "8  553                  4.372358                  0.6804321 0.8474039         \n",
       "9  669                  4.429820                  0.5047722 0.3047233         \n",
       "10 60                   4.288951                  0.3990974 0.3546653         \n",
       "   B-value error per region Maximum Magitude earthquake\n",
       "1  0.015341091              9.1                        \n",
       "2  0.054201369              9.1                        \n",
       "3  0.007453174              8.8                        \n",
       "4  0.074676802              8.6                        \n",
       "5  0.031523097              8.4                        \n",
       "6  0.059476348              8.4                        \n",
       "7  0.014144272              8.3                        \n",
       "8  0.454624977              8.3                        \n",
       "9  0.004853625              8.3                        \n",
       "10 0.021544392              8.2                        "
      ]
     },
     "metadata": {},
     "output_type": "display_data"
    }
   ],
   "source": [
    "big = data %>%\n",
    "        group_by(newname) %>%\n",
    "        summarize(mean_mag = mean(mag), std_mag = sd(mag),  bvalue = mean(bvalue), error = mean(error), \n",
    "                  max_mag = max(mag))\n",
    "#Group by year in order to get stats per year, want mag and depth as they are the only interesting things to look at\n",
    "\n",
    "big = arrange(big, desc(big$max_mag))\n",
    "#desc order to better understand the larger magnitude events\n",
    "\n",
    "names(big)[1]<-\"Flinn-Engdahl region\"\n",
    "names(big)[2]<-\"Mean Magnitude per region\"\n",
    "names(big)[4]<-\"B-value per region\"\n",
    "names(big)[5]<-\"B-value error per region\"\n",
    "names(big)[6]<-\"Maximum Magitude earthquake\"\n",
    "\n",
    "\n",
    "\n",
    "#rename columns for easy of reader\n",
    "#have some basic univairate stats to look at\n",
    "head(big, 10)"
   ]
  },
  {
   "cell_type": "markdown",
   "metadata": {},
   "source": [
    "\n",
    "For the regions with the highest magitude events all have relatively low b-values. This indicates that these regions are due for some lower magitude earthquakes."
   ]
  },
  {
   "cell_type": "code",
   "execution_count": null,
   "metadata": {},
   "outputs": [],
   "source": []
  },
  {
   "cell_type": "code",
   "execution_count": 15,
   "metadata": {},
   "outputs": [
    {
     "data": {
      "text/html": [
       "<table>\n",
       "<thead><tr><th scope=col>X</th><th scope=col>newname</th><th scope=col>depth</th><th scope=col>mag</th><th scope=col>time</th><th scope=col>id</th><th scope=col>updated</th><th scope=col>latitude</th><th scope=col>longitude</th><th scope=col>bvalue</th><th scope=col>error</th><th scope=col>time_lag</th></tr></thead>\n",
       "<tbody>\n",
       "\t<tr><td>1                  </td><td> 10                </td><td> 33.0              </td><td>5.1                </td><td>1999-02-14 17:17:27</td><td>usp00092tz         </td><td>2014-11-07 01:07:01</td><td> 21.581            </td><td>-106.681           </td><td>0.6204207          </td><td>0.66570086         </td><td>NA                 </td></tr>\n",
       "\t<tr><td>2                  </td><td> 10                </td><td> 33.0              </td><td>4.5                </td><td>1999-03-16 06:14:07</td><td>usp00094kr         </td><td>2014-11-07 01:07:14</td><td> 22.002            </td><td>-107.375           </td><td>0.6204207          </td><td>0.66570086         </td><td>1999-02-14 17:17:27</td></tr>\n",
       "\t<tr><td>3                  </td><td> 10                </td><td> 10.0              </td><td>4.5                </td><td>1999-01-13 07:38:50</td><td>usp0009114         </td><td>2014-11-07 01:06:48</td><td> 22.690            </td><td>-107.988           </td><td>0.6204207          </td><td>0.66570086         </td><td>1999-03-16 06:14:07</td></tr>\n",
       "\t<tr><td>4                  </td><td> 10                </td><td> 10.0              </td><td>5.3                </td><td>1999-03-12 07:07:40</td><td>usp00094by         </td><td>2016-11-09 22:04:11</td><td> 22.219            </td><td>-107.368           </td><td>0.6204207          </td><td>0.66570086         </td><td>1999-01-13 07:38:50</td></tr>\n",
       "\t<tr><td>5                  </td><td> 10                </td><td> 33.0              </td><td>5.2                </td><td>1999-01-10 20:36:06</td><td>usp00090x3         </td><td>2016-11-09 21:38:36</td><td> 22.939            </td><td>-108.020           </td><td>0.6204207          </td><td>0.66570086         </td><td>1999-03-12 07:07:40</td></tr>\n",
       "\t<tr><td>6                  </td><td>100                </td><td>129.1              </td><td>4.3                </td><td>1999-04-15 14:05:21</td><td>usp00096bk         </td><td>2014-11-07 01:07:28</td><td>-19.295            </td><td> -69.268           </td><td>0.3347563          </td><td>0.04778564         </td><td>NA                 </td></tr>\n",
       "</tbody>\n",
       "</table>\n"
      ],
      "text/latex": [
       "\\begin{tabular}{r|llllllllllll}\n",
       " X & newname & depth & mag & time & id & updated & latitude & longitude & bvalue & error & time\\_lag\\\\\n",
       "\\hline\n",
       "\t 1                   &  10                 &  33.0               & 5.1                 & 1999-02-14 17:17:27 & usp00092tz          & 2014-11-07 01:07:01 &  21.581             & -106.681            & 0.6204207           & 0.66570086          & NA                 \\\\\n",
       "\t 2                   &  10                 &  33.0               & 4.5                 & 1999-03-16 06:14:07 & usp00094kr          & 2014-11-07 01:07:14 &  22.002             & -107.375            & 0.6204207           & 0.66570086          & 1999-02-14 17:17:27\\\\\n",
       "\t 3                   &  10                 &  10.0               & 4.5                 & 1999-01-13 07:38:50 & usp0009114          & 2014-11-07 01:06:48 &  22.690             & -107.988            & 0.6204207           & 0.66570086          & 1999-03-16 06:14:07\\\\\n",
       "\t 4                   &  10                 &  10.0               & 5.3                 & 1999-03-12 07:07:40 & usp00094by          & 2016-11-09 22:04:11 &  22.219             & -107.368            & 0.6204207           & 0.66570086          & 1999-01-13 07:38:50\\\\\n",
       "\t 5                   &  10                 &  33.0               & 5.2                 & 1999-01-10 20:36:06 & usp00090x3          & 2016-11-09 21:38:36 &  22.939             & -108.020            & 0.6204207           & 0.66570086          & 1999-03-12 07:07:40\\\\\n",
       "\t 6                   & 100                 & 129.1               & 4.3                 & 1999-04-15 14:05:21 & usp00096bk          & 2014-11-07 01:07:28 & -19.295             &  -69.268            & 0.3347563           & 0.04778564          & NA                 \\\\\n",
       "\\end{tabular}\n"
      ],
      "text/markdown": [
       "\n",
       "| X | newname | depth | mag | time | id | updated | latitude | longitude | bvalue | error | time_lag |\n",
       "|---|---|---|---|---|---|---|---|---|---|---|---|\n",
       "| 1                   |  10                 |  33.0               | 5.1                 | 1999-02-14 17:17:27 | usp00092tz          | 2014-11-07 01:07:01 |  21.581             | -106.681            | 0.6204207           | 0.66570086          | NA                  |\n",
       "| 2                   |  10                 |  33.0               | 4.5                 | 1999-03-16 06:14:07 | usp00094kr          | 2014-11-07 01:07:14 |  22.002             | -107.375            | 0.6204207           | 0.66570086          | 1999-02-14 17:17:27 |\n",
       "| 3                   |  10                 |  10.0               | 4.5                 | 1999-01-13 07:38:50 | usp0009114          | 2014-11-07 01:06:48 |  22.690             | -107.988            | 0.6204207           | 0.66570086          | 1999-03-16 06:14:07 |\n",
       "| 4                   |  10                 |  10.0               | 5.3                 | 1999-03-12 07:07:40 | usp00094by          | 2016-11-09 22:04:11 |  22.219             | -107.368            | 0.6204207           | 0.66570086          | 1999-01-13 07:38:50 |\n",
       "| 5                   |  10                 |  33.0               | 5.2                 | 1999-01-10 20:36:06 | usp00090x3          | 2016-11-09 21:38:36 |  22.939             | -108.020            | 0.6204207           | 0.66570086          | 1999-03-12 07:07:40 |\n",
       "| 6                   | 100                 | 129.1               | 4.3                 | 1999-04-15 14:05:21 | usp00096bk          | 2014-11-07 01:07:28 | -19.295             |  -69.268            | 0.3347563           | 0.04778564          | NA                  |\n",
       "\n"
      ],
      "text/plain": [
       "  X newname depth mag time                id         updated            \n",
       "1 1  10      33.0 5.1 1999-02-14 17:17:27 usp00092tz 2014-11-07 01:07:01\n",
       "2 2  10      33.0 4.5 1999-03-16 06:14:07 usp00094kr 2014-11-07 01:07:14\n",
       "3 3  10      10.0 4.5 1999-01-13 07:38:50 usp0009114 2014-11-07 01:06:48\n",
       "4 4  10      10.0 5.3 1999-03-12 07:07:40 usp00094by 2016-11-09 22:04:11\n",
       "5 5  10      33.0 5.2 1999-01-10 20:36:06 usp00090x3 2016-11-09 21:38:36\n",
       "6 6 100     129.1 4.3 1999-04-15 14:05:21 usp00096bk 2014-11-07 01:07:28\n",
       "  latitude longitude bvalue    error      time_lag           \n",
       "1  21.581  -106.681  0.6204207 0.66570086 NA                 \n",
       "2  22.002  -107.375  0.6204207 0.66570086 1999-02-14 17:17:27\n",
       "3  22.690  -107.988  0.6204207 0.66570086 1999-03-16 06:14:07\n",
       "4  22.219  -107.368  0.6204207 0.66570086 1999-01-13 07:38:50\n",
       "5  22.939  -108.020  0.6204207 0.66570086 1999-03-12 07:07:40\n",
       "6 -19.295   -69.268  0.3347563 0.04778564 NA                 "
      ]
     },
     "metadata": {},
     "output_type": "display_data"
    }
   ],
   "source": [
    "write.csv(data,'data.csv')\n",
    "df = read.csv(\"data.csv\",header=TRUE,sep=\",\")\n",
    "head(df)\n"
   ]
  },
  {
   "cell_type": "code",
   "execution_count": 16,
   "metadata": {},
   "outputs": [
    {
     "data": {
      "text/plain": [
       "       X             newname        depth             mag       \n",
       " Min.   :     1   Min.   :  2   Min.   : -3.60   Min.   :2.500  \n",
       " 1st Qu.:126551   1st Qu.: 98   1st Qu.: 10.00   1st Qu.:3.000  \n",
       " Median :253100   Median :189   Median : 21.82   Median :4.000  \n",
       " Mean   :253100   Mean   :290   Mean   : 54.64   Mean   :3.802  \n",
       " 3rd Qu.:379650   3rd Qu.:514   3rd Qu.: 49.80   3rd Qu.:4.500  \n",
       " Max.   :506200   Max.   :754   Max.   :735.80   Max.   :9.100  \n",
       "                                                                \n",
       "     time                id              updated             latitude      \n",
       " Length:506200      Length:506200      Length:506200      Min.   :-84.422  \n",
       " Class :character   Class :character   Class :character   1st Qu.: -5.463  \n",
       " Mode  :character   Mode  :character   Mode  :character   Median : 19.647  \n",
       "                                                          Mean   : 18.417  \n",
       "                                                          3rd Qu.: 40.361  \n",
       "                                                          Max.   : 87.092  \n",
       "                                                                           \n",
       "   longitude           bvalue          error         time_lag        \n",
       " Min.   :-180.00   Min.   :0.217   Min.   :0.005   Length:506200     \n",
       " 1st Qu.:-122.78   1st Qu.:0.337   1st Qu.:0.015   Class :character  \n",
       " Median : -65.73   Median :0.437   Median :0.035   Mode  :character  \n",
       " Mean   : -20.11   Mean   :0.525   Mean   :0.114                     \n",
       " 3rd Qu.: 109.53   3rd Qu.:0.632   3rd Qu.:0.084                     \n",
       " Max.   : 180.00   Max.   :4.343   Max.   :6.590                     \n",
       "                   NA's   :25157   NA's   :25157                     "
      ]
     },
     "metadata": {},
     "output_type": "display_data"
    }
   ],
   "source": [
    "summary(df)"
   ]
  },
  {
   "cell_type": "code",
   "execution_count": null,
   "metadata": {},
   "outputs": [],
   "source": []
  },
  {
   "cell_type": "code",
   "execution_count": null,
   "metadata": {},
   "outputs": [],
   "source": []
  },
  {
   "cell_type": "code",
   "execution_count": null,
   "metadata": {},
   "outputs": [],
   "source": []
  },
  {
   "cell_type": "code",
   "execution_count": null,
   "metadata": {},
   "outputs": [],
   "source": []
  },
  {
   "cell_type": "code",
   "execution_count": null,
   "metadata": {},
   "outputs": [],
   "source": []
  },
  {
   "cell_type": "code",
   "execution_count": null,
   "metadata": {},
   "outputs": [],
   "source": []
  },
  {
   "cell_type": "code",
   "execution_count": null,
   "metadata": {},
   "outputs": [],
   "source": [
    "\n"
   ]
  },
  {
   "cell_type": "code",
   "execution_count": null,
   "metadata": {},
   "outputs": [],
   "source": []
  },
  {
   "cell_type": "code",
   "execution_count": null,
   "metadata": {},
   "outputs": [],
   "source": []
  },
  {
   "cell_type": "code",
   "execution_count": null,
   "metadata": {},
   "outputs": [],
   "source": []
  },
  {
   "cell_type": "code",
   "execution_count": null,
   "metadata": {},
   "outputs": [],
   "source": []
  },
  {
   "cell_type": "code",
   "execution_count": null,
   "metadata": {},
   "outputs": [],
   "source": []
  },
  {
   "cell_type": "code",
   "execution_count": null,
   "metadata": {},
   "outputs": [],
   "source": []
  },
  {
   "cell_type": "code",
   "execution_count": null,
   "metadata": {},
   "outputs": [],
   "source": []
  },
  {
   "cell_type": "code",
   "execution_count": null,
   "metadata": {},
   "outputs": [],
   "source": []
  },
  {
   "cell_type": "code",
   "execution_count": null,
   "metadata": {},
   "outputs": [],
   "source": []
  },
  {
   "cell_type": "code",
   "execution_count": null,
   "metadata": {},
   "outputs": [],
   "source": []
  },
  {
   "cell_type": "code",
   "execution_count": null,
   "metadata": {},
   "outputs": [],
   "source": []
  },
  {
   "cell_type": "code",
   "execution_count": null,
   "metadata": {},
   "outputs": [],
   "source": []
  },
  {
   "cell_type": "code",
   "execution_count": null,
   "metadata": {},
   "outputs": [],
   "source": []
  },
  {
   "cell_type": "code",
   "execution_count": null,
   "metadata": {},
   "outputs": [],
   "source": []
  },
  {
   "cell_type": "code",
   "execution_count": null,
   "metadata": {},
   "outputs": [],
   "source": []
  },
  {
   "cell_type": "code",
   "execution_count": null,
   "metadata": {},
   "outputs": [],
   "source": []
  },
  {
   "cell_type": "code",
   "execution_count": null,
   "metadata": {},
   "outputs": [],
   "source": []
  },
  {
   "cell_type": "code",
   "execution_count": null,
   "metadata": {},
   "outputs": [],
   "source": []
  },
  {
   "cell_type": "code",
   "execution_count": null,
   "metadata": {},
   "outputs": [],
   "source": []
  },
  {
   "cell_type": "code",
   "execution_count": null,
   "metadata": {},
   "outputs": [],
   "source": []
  },
  {
   "cell_type": "code",
   "execution_count": null,
   "metadata": {},
   "outputs": [],
   "source": []
  }
 ],
 "metadata": {
  "kernelspec": {
   "display_name": "R",
   "language": "R",
   "name": "ir"
  },
  "language_info": {
   "codemirror_mode": "r",
   "file_extension": ".r",
   "mimetype": "text/x-r-source",
   "name": "R",
   "pygments_lexer": "r",
   "version": "3.5.1"
  }
 },
 "nbformat": 4,
 "nbformat_minor": 2
}
