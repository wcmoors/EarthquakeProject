{
 "cells": [
  {
   "cell_type": "markdown",
   "metadata": {},
   "source": [
    "# Creat .gif file from .png files"
   ]
  },
  {
   "cell_type": "markdown",
   "metadata": {},
   "source": [
    "This notebook creates a single .gif file from multiple .png files. "
   ]
  },
  {
   "cell_type": "markdown",
   "metadata": {},
   "source": [
    "Must first load the needed functions and give the folder and names of the files that will be needed. \n",
    "Then loop is created that grabs those files will convert them into a .gif file "
   ]
  },
  {
   "cell_type": "code",
   "execution_count": 10,
   "metadata": {},
   "outputs": [],
   "source": [
    "import imageio\n",
    "import os\n",
    "\n",
    "path = 'gif_pics/'\n",
    "name = 'earthquake'\n",
    "#give places to look \n",
    "\n",
    "fileList = []\n",
    "for file in os.listdir(path):\n",
    "   if file.startswith(name):\n",
    "       complete_path = path + file\n",
    "       fileList.append(complete_path)\n",
    "#go grab the files \n",
    "\n",
    "fileList = sorted(fileList)\n",
    "writer = imageio.get_writer('quakes.gif', fps = 5, loop = 1)\n",
    "#writ the .gif file\n",
    "\n",
    "for im in fileList:\n",
    "   writer.append_data(imageio.imread(im))\n",
    "writer.close()\n",
    "print(\"Done\")\n",
    "#write the new .gif to be saved as a gif"
   ]
  },
  {
   "cell_type": "markdown",
   "metadata": {},
   "source": [
    "Now a single .gif is created from multiple .ong files."
   ]
  },
  {
   "cell_type": "code",
   "execution_count": null,
   "metadata": {},
   "outputs": [],
   "source": []
  },
  {
   "cell_type": "code",
   "execution_count": null,
   "metadata": {},
   "outputs": [],
   "source": []
  }
 ],
 "metadata": {
  "kernelspec": {
   "display_name": "Python 3",
   "language": "python",
   "name": "python3"
  },
  "language_info": {
   "codemirror_mode": {
    "name": "ipython",
    "version": 3
   },
   "file_extension": ".py",
   "mimetype": "text/x-python",
   "name": "python",
   "nbconvert_exporter": "python",
   "pygments_lexer": "ipython3",
   "version": "3.7.3"
  }
 },
 "nbformat": 4,
 "nbformat_minor": 2
}
