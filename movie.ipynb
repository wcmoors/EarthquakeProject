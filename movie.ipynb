{
 "cells": [
  {
   "cell_type": "markdown",
   "metadata": {},
   "source": [
    "# Creating plots for movie .gif"
   ]
  },
  {
   "cell_type": "markdown",
   "metadata": {},
   "source": [
    "This notebook creates maps of the global earthquakes which for each year. It creates these in a loop which titles eachplot by year and then saves each plot as a .png file"
   ]
  },
  {
   "cell_type": "code",
   "execution_count": 39,
   "metadata": {},
   "outputs": [],
   "source": [
    "source('initialize_data.R', echo = FALSE)"
   ]
  },
  {
   "cell_type": "code",
   "execution_count": 40,
   "metadata": {},
   "outputs": [
    {
     "name": "stdout",
     "output_type": "stream",
     "text": [
      "[1] \"libraries loaded successfully\"\n"
     ]
    }
   ],
   "source": [
    "suppressWarnings(suppressMessages(load_libraries()))"
   ]
  },
  {
   "cell_type": "markdown",
   "metadata": {},
   "source": [
    "Earthquake data must be loaded."
   ]
  },
  {
   "cell_type": "code",
   "execution_count": 41,
   "metadata": {},
   "outputs": [
    {
     "name": "stderr",
     "output_type": "stream",
     "text": [
      "Files in \"~/jupyter/cs2019_Group11/GroupProducts/data\" loaded.\n",
      "Subset Completed.\n",
      "Parsed column: time.\n",
      "spatial df created\n"
     ]
    }
   ],
   "source": [
    "#Loading data and initializing dataframes\n",
    "\n",
    "path <- \"~/jupyter/cs2019_Group11/GroupProducts/data\" #Explicit location of data\n",
    "\n",
    "df <- loadFiles(path) %>%\n",
    "    reqCols %>%\n",
    "    parseDt('time')\n",
    "\n",
    "dfsp <- tospdf(df)"
   ]
  },
  {
   "cell_type": "markdown",
   "metadata": {},
   "source": [
    "And checked.....    "
   ]
  },
  {
   "cell_type": "code",
   "execution_count": 42,
   "metadata": {},
   "outputs": [
    {
     "data": {
      "text/html": [
       "<table>\n",
       "<tbody>\n",
       "\t<tr><th scope=row>time</th><td>1999-07-01 23:29:27</td><td>1999-07-01 22:10:51</td><td>1999-07-01 21:42:41</td><td>1999-07-01 20:50:11</td><td>1999-07-01 19:52:19</td><td>1999-07-01 19:52:12</td></tr>\n",
       "\t<tr><th scope=row>latitude</th><td> 45.4500           </td><td> 46.7105           </td><td> 51.9950           </td><td>-31.7260           </td><td> 59.8900           </td><td> 36.0500           </td></tr>\n",
       "\t<tr><th scope=row>longitude</th><td>   3.790           </td><td>-122.778           </td><td> 177.972           </td><td> -72.053           </td><td>-153.560           </td><td>  31.166           </td></tr>\n",
       "\t<tr><th scope=row>depth</th><td>  2.000            </td><td>  4.613            </td><td>106.800            </td><td> 26.100            </td><td>136.300            </td><td> 30.200            </td></tr>\n",
       "\t<tr><th scope=row>mag</th><td>2.6                </td><td>3.1                </td><td>4.2                </td><td>3.9                </td><td>3.1                </td><td>3.8                </td></tr>\n",
       "\t<tr><th scope=row>id</th><td>usp0009awp         </td><td>uw10474128         </td><td>usp0009awk         </td><td>usp0009awh         </td><td>usp0009awf         </td><td>usp0009awe         </td></tr>\n",
       "\t<tr><th scope=row>updated</th><td>2014-11-07 01:08:01</td><td>2016-07-23 18:59:57</td><td>2014-11-07 01:08:01</td><td>2014-11-07 01:08:01</td><td>2014-11-07 01:08:01</td><td>2014-11-07 01:08:01</td></tr>\n",
       "\t<tr><th scope=row>time_Date</th><td>1999-07-01         </td><td>1999-07-01         </td><td>1999-07-01         </td><td>1999-07-01         </td><td>1999-07-01         </td><td>1999-07-01         </td></tr>\n",
       "\t<tr><th scope=row>time_Time</th><td>18:29:27           </td><td>17:10:51           </td><td>16:42:41           </td><td>15:50:11           </td><td>14:52:19           </td><td>14:52:12           </td></tr>\n",
       "\t<tr><th scope=row>time_Year</th><td>1999               </td><td>1999               </td><td>1999               </td><td>1999               </td><td>1999               </td><td>1999               </td></tr>\n",
       "</tbody>\n",
       "</table>\n"
      ],
      "text/latex": [
       "\\begin{tabular}{r|llllll}\n",
       "\ttime & 1999-07-01 23:29:27 & 1999-07-01 22:10:51 & 1999-07-01 21:42:41 & 1999-07-01 20:50:11 & 1999-07-01 19:52:19 & 1999-07-01 19:52:12\\\\\n",
       "\tlatitude &  45.4500            &  46.7105            &  51.9950            & -31.7260            &  59.8900            &  36.0500           \\\\\n",
       "\tlongitude &    3.790            & -122.778            &  177.972            &  -72.053            & -153.560            &   31.166           \\\\\n",
       "\tdepth &   2.000             &   4.613             & 106.800             &  26.100             & 136.300             &  30.200            \\\\\n",
       "\tmag & 2.6                 & 3.1                 & 4.2                 & 3.9                 & 3.1                 & 3.8                \\\\\n",
       "\tid & usp0009awp          & uw10474128          & usp0009awk          & usp0009awh          & usp0009awf          & usp0009awe         \\\\\n",
       "\tupdated & 2014-11-07 01:08:01 & 2016-07-23 18:59:57 & 2014-11-07 01:08:01 & 2014-11-07 01:08:01 & 2014-11-07 01:08:01 & 2014-11-07 01:08:01\\\\\n",
       "\ttime\\_Date & 1999-07-01          & 1999-07-01          & 1999-07-01          & 1999-07-01          & 1999-07-01          & 1999-07-01         \\\\\n",
       "\ttime\\_Time & 18:29:27            & 17:10:51            & 16:42:41            & 15:50:11            & 14:52:19            & 14:52:12           \\\\\n",
       "\ttime\\_Year & 1999                & 1999                & 1999                & 1999                & 1999                & 1999               \\\\\n",
       "\\end{tabular}\n"
      ],
      "text/markdown": [
       "\n",
       "| time | 1999-07-01 23:29:27 | 1999-07-01 22:10:51 | 1999-07-01 21:42:41 | 1999-07-01 20:50:11 | 1999-07-01 19:52:19 | 1999-07-01 19:52:12 |\n",
       "| latitude |  45.4500            |  46.7105            |  51.9950            | -31.7260            |  59.8900            |  36.0500            |\n",
       "| longitude |    3.790            | -122.778            |  177.972            |  -72.053            | -153.560            |   31.166            |\n",
       "| depth |   2.000             |   4.613             | 106.800             |  26.100             | 136.300             |  30.200             |\n",
       "| mag | 2.6                 | 3.1                 | 4.2                 | 3.9                 | 3.1                 | 3.8                 |\n",
       "| id | usp0009awp          | uw10474128          | usp0009awk          | usp0009awh          | usp0009awf          | usp0009awe          |\n",
       "| updated | 2014-11-07 01:08:01 | 2016-07-23 18:59:57 | 2014-11-07 01:08:01 | 2014-11-07 01:08:01 | 2014-11-07 01:08:01 | 2014-11-07 01:08:01 |\n",
       "| time_Date | 1999-07-01          | 1999-07-01          | 1999-07-01          | 1999-07-01          | 1999-07-01          | 1999-07-01          |\n",
       "| time_Time | 18:29:27            | 17:10:51            | 16:42:41            | 15:50:11            | 14:52:19            | 14:52:12            |\n",
       "| time_Year | 1999                | 1999                | 1999                | 1999                | 1999                | 1999                |\n",
       "\n"
      ],
      "text/plain": [
       "          [,1]                [,2]                [,3]               \n",
       "time      1999-07-01 23:29:27 1999-07-01 22:10:51 1999-07-01 21:42:41\n",
       "latitude   45.4500             46.7105             51.9950           \n",
       "longitude    3.790            -122.778             177.972           \n",
       "depth       2.000               4.613             106.800            \n",
       "mag       2.6                 3.1                 4.2                \n",
       "id        usp0009awp          uw10474128          usp0009awk         \n",
       "updated   2014-11-07 01:08:01 2016-07-23 18:59:57 2014-11-07 01:08:01\n",
       "time_Date 1999-07-01          1999-07-01          1999-07-01         \n",
       "time_Time 18:29:27            17:10:51            16:42:41           \n",
       "time_Year 1999                1999                1999               \n",
       "          [,4]                [,5]                [,6]               \n",
       "time      1999-07-01 20:50:11 1999-07-01 19:52:19 1999-07-01 19:52:12\n",
       "latitude  -31.7260             59.8900             36.0500           \n",
       "longitude  -72.053            -153.560              31.166           \n",
       "depth      26.100             136.300              30.200            \n",
       "mag       3.9                 3.1                 3.8                \n",
       "id        usp0009awh          usp0009awf          usp0009awe         \n",
       "updated   2014-11-07 01:08:01 2014-11-07 01:08:01 2014-11-07 01:08:01\n",
       "time_Date 1999-07-01          1999-07-01          1999-07-01         \n",
       "time_Time 15:50:11            14:52:19            14:52:12           \n",
       "time_Year 1999                1999                1999               "
      ]
     },
     "metadata": {},
     "output_type": "display_data"
    },
    {
     "name": "stdout",
     "output_type": "stream",
     "text": [
      "Classes ‘tbl_df’, ‘tbl’ and 'data.frame':\t511837 obs. of  10 variables:\n",
      " $ time     : POSIXct, format: \"1999-07-01 23:29:27\" \"1999-07-01 22:10:51\" ...\n",
      " $ latitude : num  45.5 46.7 52 -31.7 59.9 ...\n",
      " $ longitude: num  3.79 -122.78 177.97 -72.05 -153.56 ...\n",
      " $ depth    : num  2 4.61 106.8 26.1 136.3 ...\n",
      " $ mag      : num  2.6 3.1 4.2 3.9 3.1 3.8 4.5 4.5 4.8 4.8 ...\n",
      " $ id       : chr  \"usp0009awp\" \"uw10474128\" \"usp0009awk\" \"usp0009awh\" ...\n",
      " $ updated  : POSIXct, format: \"2014-11-07 01:08:01\" \"2016-07-23 18:59:57\" ...\n",
      " $ time_Date: Date, format: \"1999-07-01\" \"1999-07-01\" ...\n",
      " $ time_Time: 'ITime' int  18:29:27 17:10:51 16:42:41 15:50:11 14:52:19 14:52:12 14:45:44 14:26:28 14:03:06 13:56:04 ...\n",
      " $ time_Year: num  1999 1999 1999 1999 1999 ...\n",
      "68.3 Mb\n"
     ]
    }
   ],
   "source": [
    "t(head(df))\n",
    "str(df)\n",
    "print(object.size(df), units=\"Mb\")"
   ]
  },
  {
   "cell_type": "markdown",
   "metadata": {},
   "source": [
    "Tectonic plate files and the base world map loaded."
   ]
  },
  {
   "cell_type": "code",
   "execution_count": 43,
   "metadata": {},
   "outputs": [
    {
     "name": "stderr",
     "output_type": "stream",
     "text": [
      "Warning message in readOGR(tectonicdata):\n",
      "“First layer Plate Interface read; multiple layers present in\n",
      "/dsa/home/jaw56m/jupyter/cs2019_Group11/GroupProducts/plate-boundaries.kmz, check layers with ogrListLayers()”"
     ]
    },
    {
     "name": "stdout",
     "output_type": "stream",
     "text": [
      "OGR data source with driver: LIBKML \n",
      "Source: \"/dsa/home/jaw56m/jupyter/cs2019_Group11/GroupProducts/plate-boundaries.kmz\", layer: \"Plate Interface\"\n",
      "with 1175 features\n",
      "It has 12 fields\n"
     ]
    },
    {
     "name": "stderr",
     "output_type": "stream",
     "text": [
      "Warning message in readOGR(tectonicdata):\n",
      "“Z-dimension discarded”"
     ]
    }
   ],
   "source": [
    "base_world <- base_world()\n",
    "\n",
    "tectonicdata = \"~/jupyter/cs2019_Group11/GroupProducts/plate-boundaries.kmz\"\n",
    "tectonicFeatures <- readOGR(tectonicdata)"
   ]
  },
  {
   "cell_type": "markdown",
   "metadata": {},
   "source": [
    "## Loop to plot earthquakes per year"
   ]
  },
  {
   "cell_type": "markdown",
   "metadata": {},
   "source": [
    "The following loop plots earthquakes per a year, per a plot. Year data is subset eithin a loop to get each year's data. Plot are also named based on the year they come from. All plots are saved to a list. "
   ]
  },
  {
   "cell_type": "code",
   "execution_count": 44,
   "metadata": {},
   "outputs": [],
   "source": [
    "##Jessica\n",
    "options(repr.plot.width=44, repr.plot.height=40)\n",
    "\n",
    "plot_list = list()\n",
    "for (n in 1:20){\n",
    "    i = 1998+n\n",
    "world_earthquakes = base_world + geom_point(data= subset(df, df$time_Year == i),aes(x=longitude, y=latitude, color= mag), alpha=I(0.1)) \n",
    "# Here I take the map I've made and add the locations for each earthquake and subset the years\n",
    "\n",
    "map = world_earthquakes + \n",
    "    geom_path(data = tectonicFeatures, \n",
    "          aes(x = long, y = lat, group = group),\n",
    "          color = 'gray', size = .4)+\n",
    "    #now I facet by year inorder to make changes more clear\n",
    "\n",
    "    theme(strip.background = element_rect(colour=\"black\", fill=\"white\", \n",
    "                                       size=1.5, linetype=\"blank\"),strip.text = element_text(size=30),\n",
    "     legend.text=element_text(size=26), legend.title=element_text(size=40))+\n",
    "    #I want to change the default title displays for the facets to something cleaner\n",
    "\n",
    "    scale_color_distiller(palette = \"RdPu\") + \n",
    "    # I change the default color to pink as it contrasts well with the green continents \n",
    "\n",
    "    labs(color = \"Magnitude\")+\n",
    "    # I rename the legend title to the full name\n",
    "\n",
    "    ggtitle(paste(\"Earthquakes >= 2.5 Magitude per Year\", i)) +\n",
    "    # I give a proper title to include the correct years \n",
    "\n",
    "    theme(plot.title = element_text(hjust = 0.5, size = 35, face = \"bold\"))\n",
    "    # I make the title larger and adjust it to make it more visible \n",
    "    plot_list[[n]] = map\n",
    "}"
   ]
  },
  {
   "cell_type": "markdown",
   "metadata": {},
   "source": [
    "The following loop takes each plot in the list and converts it to a .png file and saves it including the year which is plotted for each plot in the name. "
   ]
  },
  {
   "cell_type": "code",
   "execution_count": 45,
   "metadata": {},
   "outputs": [],
   "source": [
    "for (i in 1:20) {\n",
    "    n = 1998+ i #want the year to be in the name \n",
    "    file_name = paste(\"earthquake\", n, \".png\", sep=\"\")\n",
    "    png(file_name, width = 1200, height = 800)\n",
    "    print(plot_list[[i]])\n",
    "    dev.off()\n",
    "}"
   ]
  },
  {
   "cell_type": "markdown",
   "metadata": {},
   "source": [
    "From here the a python script will be ran on the output to convert these .png files into a single .gif file."
   ]
  },
  {
   "cell_type": "code",
   "execution_count": null,
   "metadata": {},
   "outputs": [],
   "source": []
  }
 ],
 "metadata": {
  "kernelspec": {
   "display_name": "R",
   "language": "R",
   "name": "ir"
  },
  "language_info": {
   "codemirror_mode": "r",
   "file_extension": ".r",
   "mimetype": "text/x-r-source",
   "name": "R",
   "pygments_lexer": "r",
   "version": "3.5.1"
  }
 },
 "nbformat": 4,
 "nbformat_minor": 2
}
