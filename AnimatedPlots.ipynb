{
 "cells": [
  {
   "cell_type": "code",
   "execution_count": 15,
   "metadata": {},
   "outputs": [
    {
     "name": "stdout",
     "output_type": "stream",
     "text": [
      "Done\n"
     ]
    }
   ],
   "source": [
    "import imageio\n",
    "import os\n",
    "\n",
    "path = 'images/'\n",
    "name = 'TimelineLM'\n",
    "\n",
    "fileList = []\n",
    "for file in os.listdir(path):\n",
    "    if file.startswith(name):\n",
    "        complete_path = path + file\n",
    "        fileList.append(complete_path)\n",
    "\n",
    "fileList = sorted(fileList)\n",
    "writer = imageio.get_writer('Lm100.gif', fps = 5, loop = 1)\n",
    "\n",
    "for im in fileList:\n",
    "    writer.append_data(imageio.imread(im))\n",
    "writer.close()\n",
    "print(\"Done\")"
   ]
  },
  {
   "cell_type": "code",
   "execution_count": 16,
   "metadata": {},
   "outputs": [
    {
     "name": "stdout",
     "output_type": "stream",
     "text": [
      "Done\n"
     ]
    }
   ],
   "source": [
    "path = 'images/'\n",
    "name = 'TimelineLO'\n",
    "\n",
    "fileList = []\n",
    "for file in os.listdir(path):\n",
    "    if file.startswith(name):\n",
    "        complete_path = path + file\n",
    "        fileList.append(complete_path)\n",
    "\n",
    "fileList = sorted(fileList)\n",
    "writer = imageio.get_writer('Lo100.gif', fps = 5, loop = 1)\n",
    "\n",
    "for im in fileList:\n",
    "    writer.append_data(imageio.imread(im))\n",
    "writer.close()\n",
    "print(\"Done\")"
   ]
  },
  {
   "cell_type": "code",
   "execution_count": null,
   "metadata": {},
   "outputs": [],
   "source": []
  }
 ],
 "metadata": {
  "kernelspec": {
   "display_name": "Python 3",
   "language": "python",
   "name": "python3"
  },
  "language_info": {
   "codemirror_mode": {
    "name": "ipython",
    "version": 3
   },
   "file_extension": ".py",
   "mimetype": "text/x-python",
   "name": "python",
   "nbconvert_exporter": "python",
   "pygments_lexer": "ipython3",
   "version": "3.7.3"
  }
 },
 "nbformat": 4,
 "nbformat_minor": 2
}
